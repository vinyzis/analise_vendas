{
 "cells": [
  {
   "cell_type": "markdown",
   "id": "210d69ef",
   "metadata": {},
   "source": [
    "# Análise de Vendas e Performance Comercial\n"
   ]
  },
  {
   "cell_type": "markdown",
   "id": "287eb5c4",
   "metadata": {},
   "source": [
    "## Introdução\n",
    "\n",
    "Este notebook tem como objetivo realizar uma análise exploratória dos dados de vendas de uma empresa fictícia. Através dessa base, serão explorados indicadores como:\n",
    "\n",
    "- Receita total;\n",
    "- Custo total;\n",
    "- Lucro gerado;\n",
    "- Volume de vendas por produto e por categoria;\n",
    "- Análise da performance comercial.\n",
    "\n",
    "Com o objetivo de extrair insights valiosos sobre o comportamento das vendas, identificar os produtos mais relevantes, entender a distribuição de receita entre as categorias e apoiar a tomada de decisões estratégicas para o negócio.\n",
    "\n",
    "A análise será realizada utilizando a linguagem Python, com o auxílio de bibliotecas como **Pandas** e **Matplotlib** para visualização de dados."
   ]
  },
  {
   "cell_type": "markdown",
   "id": "0a09cd4f",
   "metadata": {},
   "source": [
    "* Importando Bibliotecas"
   ]
  },
  {
   "cell_type": "code",
   "execution_count": 1,
   "id": "05633b0f",
   "metadata": {},
   "outputs": [],
   "source": [
    "import pandas as pd\n",
    "import matplotlib.pyplot as plt"
   ]
  },
  {
   "cell_type": "markdown",
   "id": "8481a550",
   "metadata": {},
   "source": [
    "* Exploração Inicial"
   ]
  },
  {
   "cell_type": "code",
   "execution_count": 5,
   "id": "b27eb44c",
   "metadata": {},
   "outputs": [
    {
     "data": {
      "text/plain": [
       "(200, 9)"
      ]
     },
     "execution_count": 5,
     "metadata": {},
     "output_type": "execute_result"
    }
   ],
   "source": [
    "vendas_df = pd.read_csv('base_vendas.csv')\n",
    "vendas_df.shape"
   ]
  },
  {
   "cell_type": "code",
   "execution_count": 6,
   "id": "3000ca4b",
   "metadata": {},
   "outputs": [
    {
     "data": {
      "text/html": [
       "<div>\n",
       "<style scoped>\n",
       "    .dataframe tbody tr th:only-of-type {\n",
       "        vertical-align: middle;\n",
       "    }\n",
       "\n",
       "    .dataframe tbody tr th {\n",
       "        vertical-align: top;\n",
       "    }\n",
       "\n",
       "    .dataframe thead th {\n",
       "        text-align: right;\n",
       "    }\n",
       "</style>\n",
       "<table border=\"1\" class=\"dataframe\">\n",
       "  <thead>\n",
       "    <tr style=\"text-align: right;\">\n",
       "      <th></th>\n",
       "      <th>ID_Pedido</th>\n",
       "      <th>Data_Pedido</th>\n",
       "      <th>Categoria_Produto</th>\n",
       "      <th>Produto</th>\n",
       "      <th>Quantidade_Vendida</th>\n",
       "      <th>Preco_Unitario</th>\n",
       "      <th>Custo_Unitario</th>\n",
       "      <th>Regiao_Venda</th>\n",
       "      <th>Cliente</th>\n",
       "    </tr>\n",
       "  </thead>\n",
       "  <tbody>\n",
       "    <tr>\n",
       "      <th>0</th>\n",
       "      <td>3f5e8b57-6cea-43ac-8af0-f8656c49f703</td>\n",
       "      <td>2024-07-15</td>\n",
       "      <td>Esportes</td>\n",
       "      <td>Bola de Futebol</td>\n",
       "      <td>1</td>\n",
       "      <td>3488.75</td>\n",
       "      <td>1867.16</td>\n",
       "      <td>Norte</td>\n",
       "      <td>Cauê Oliveira</td>\n",
       "    </tr>\n",
       "    <tr>\n",
       "      <th>1</th>\n",
       "      <td>224a2626-89d1-430b-8fed-85e49acf01c4</td>\n",
       "      <td>2024-08-31</td>\n",
       "      <td>Beleza</td>\n",
       "      <td>Maquiagem</td>\n",
       "      <td>10</td>\n",
       "      <td>2039.14</td>\n",
       "      <td>1431.22</td>\n",
       "      <td>Sul</td>\n",
       "      <td>Dra. Natália Correia</td>\n",
       "    </tr>\n",
       "    <tr>\n",
       "      <th>2</th>\n",
       "      <td>ac333461-9c91-4bfd-a88d-a4651aad450f</td>\n",
       "      <td>2024-09-17</td>\n",
       "      <td>Casa e Decoração</td>\n",
       "      <td>Sofá</td>\n",
       "      <td>1</td>\n",
       "      <td>3949.59</td>\n",
       "      <td>2227.25</td>\n",
       "      <td>Norte</td>\n",
       "      <td>Luiz Henrique da Mata</td>\n",
       "    </tr>\n",
       "    <tr>\n",
       "      <th>3</th>\n",
       "      <td>12bfd712-d849-462c-b5dd-ea0f3f9c0e92</td>\n",
       "      <td>2025-04-23</td>\n",
       "      <td>Beleza</td>\n",
       "      <td>Maquiagem</td>\n",
       "      <td>4</td>\n",
       "      <td>575.36</td>\n",
       "      <td>432.60</td>\n",
       "      <td>Nordeste</td>\n",
       "      <td>Amanda da Mota</td>\n",
       "    </tr>\n",
       "    <tr>\n",
       "      <th>4</th>\n",
       "      <td>d7ba66f3-8846-421a-8a48-de5ed8a827ff</td>\n",
       "      <td>2024-11-08</td>\n",
       "      <td>Casa e Decoração</td>\n",
       "      <td>Cadeira</td>\n",
       "      <td>8</td>\n",
       "      <td>237.39</td>\n",
       "      <td>142.92</td>\n",
       "      <td>Norte</td>\n",
       "      <td>Ana Julia Cardoso</td>\n",
       "    </tr>\n",
       "  </tbody>\n",
       "</table>\n",
       "</div>"
      ],
      "text/plain": [
       "                              ID_Pedido Data_Pedido Categoria_Produto  \\\n",
       "0  3f5e8b57-6cea-43ac-8af0-f8656c49f703  2024-07-15          Esportes   \n",
       "1  224a2626-89d1-430b-8fed-85e49acf01c4  2024-08-31            Beleza   \n",
       "2  ac333461-9c91-4bfd-a88d-a4651aad450f  2024-09-17  Casa e Decoração   \n",
       "3  12bfd712-d849-462c-b5dd-ea0f3f9c0e92  2025-04-23            Beleza   \n",
       "4  d7ba66f3-8846-421a-8a48-de5ed8a827ff  2024-11-08  Casa e Decoração   \n",
       "\n",
       "           Produto  Quantidade_Vendida  Preco_Unitario  Custo_Unitario  \\\n",
       "0  Bola de Futebol                   1         3488.75         1867.16   \n",
       "1        Maquiagem                  10         2039.14         1431.22   \n",
       "2             Sofá                   1         3949.59         2227.25   \n",
       "3        Maquiagem                   4          575.36          432.60   \n",
       "4          Cadeira                   8          237.39          142.92   \n",
       "\n",
       "  Regiao_Venda                Cliente  \n",
       "0        Norte          Cauê Oliveira  \n",
       "1          Sul   Dra. Natália Correia  \n",
       "2        Norte  Luiz Henrique da Mata  \n",
       "3     Nordeste         Amanda da Mota  \n",
       "4        Norte      Ana Julia Cardoso  "
      ]
     },
     "execution_count": 6,
     "metadata": {},
     "output_type": "execute_result"
    }
   ],
   "source": [
    "vendas_df.head()"
   ]
  },
  {
   "cell_type": "markdown",
   "id": "347f98bf",
   "metadata": {},
   "source": [
    "* Verificar Valores Nulos"
   ]
  },
  {
   "cell_type": "code",
   "execution_count": 8,
   "id": "ce151294",
   "metadata": {},
   "outputs": [
    {
     "data": {
      "text/plain": [
       "ID_Pedido             0\n",
       "Data_Pedido           0\n",
       "Categoria_Produto     0\n",
       "Produto               0\n",
       "Quantidade_Vendida    0\n",
       "Preco_Unitario        0\n",
       "Custo_Unitario        0\n",
       "Regiao_Venda          0\n",
       "Cliente               0\n",
       "dtype: int64"
      ]
     },
     "execution_count": 8,
     "metadata": {},
     "output_type": "execute_result"
    }
   ],
   "source": [
    "vendas_df.isnull().sum()"
   ]
  },
  {
   "cell_type": "markdown",
   "id": "53baf0f2",
   "metadata": {},
   "source": [
    " * Métricas Gerais"
   ]
  },
  {
   "cell_type": "code",
   "execution_count": 15,
   "id": "83fd4cab",
   "metadata": {},
   "outputs": [
    {
     "data": {
      "text/plain": [
       "np.float64(2514102.9399999995)"
      ]
     },
     "execution_count": 15,
     "metadata": {},
     "output_type": "execute_result"
    }
   ],
   "source": [
    "vendas_df['Receita'] = vendas_df['Quantidade_Vendida'] * vendas_df['Preco_Unitario']\n",
    "receita = vendas_df['Receita'].sum()\n",
    "receita"
   ]
  },
  {
   "cell_type": "code",
   "execution_count": 14,
   "id": "0cf239fb",
   "metadata": {},
   "outputs": [
    {
     "data": {
      "text/plain": [
       "np.float64(1608802.41)"
      ]
     },
     "execution_count": 14,
     "metadata": {},
     "output_type": "execute_result"
    }
   ],
   "source": [
    "vendas_df['Custo'] = vendas_df['Quantidade_Vendida'] * vendas_df['Custo_Unitario']\n",
    "custo = vendas_df['Custo'].sum()\n",
    "custo"
   ]
  },
  {
   "cell_type": "code",
   "execution_count": 16,
   "id": "ae0aafd6",
   "metadata": {},
   "outputs": [
    {
     "data": {
      "text/plain": [
       "np.float64(905300.53)"
      ]
     },
     "execution_count": 16,
     "metadata": {},
     "output_type": "execute_result"
    }
   ],
   "source": [
    "vendas_df['Lucro'] = vendas_df['Receita'] - vendas_df['Custo']\n",
    "lucro = vendas_df['Lucro'].sum()\n",
    "lucro"
   ]
  },
  {
   "cell_type": "code",
   "execution_count": 20,
   "id": "e827e88a",
   "metadata": {},
   "outputs": [
    {
     "data": {
      "text/plain": [
       "200"
      ]
     },
     "execution_count": 20,
     "metadata": {},
     "output_type": "execute_result"
    }
   ],
   "source": [
    "total_pedidos = vendas_df['ID_Pedido'].nunique()\n",
    "total_pedidos"
   ]
  },
  {
   "cell_type": "code",
   "execution_count": 21,
   "id": "675926d9",
   "metadata": {},
   "outputs": [
    {
     "data": {
      "text/plain": [
       "200"
      ]
     },
     "execution_count": 21,
     "metadata": {},
     "output_type": "execute_result"
    }
   ],
   "source": [
    "total_clientes_unicos = vendas_df['Cliente'].nunique()\n",
    "total_clientes_unicos"
   ]
  },
  {
   "cell_type": "code",
   "execution_count": 29,
   "id": "ee605ee6",
   "metadata": {},
   "outputs": [
    {
     "data": {
      "text/plain": [
       "np.int64(1022)"
      ]
     },
     "execution_count": 29,
     "metadata": {},
     "output_type": "execute_result"
    }
   ],
   "source": [
    "total_vendas = vendas_df['Quantidade_Vendida'].sum()\n",
    "total_vendas"
   ]
  },
  {
   "cell_type": "code",
   "execution_count": 27,
   "id": "436abd93",
   "metadata": {},
   "outputs": [
    {
     "data": {
      "text/html": [
       "<div>\n",
       "<style scoped>\n",
       "    .dataframe tbody tr th:only-of-type {\n",
       "        vertical-align: middle;\n",
       "    }\n",
       "\n",
       "    .dataframe tbody tr th {\n",
       "        vertical-align: top;\n",
       "    }\n",
       "\n",
       "    .dataframe thead th {\n",
       "        text-align: right;\n",
       "    }\n",
       "</style>\n",
       "<table border=\"1\" class=\"dataframe\">\n",
       "  <thead>\n",
       "    <tr style=\"text-align: right;\">\n",
       "      <th></th>\n",
       "      <th>Regiao_Venda</th>\n",
       "      <th>Quantidade_Vendida</th>\n",
       "    </tr>\n",
       "  </thead>\n",
       "  <tbody>\n",
       "    <tr>\n",
       "      <th>4</th>\n",
       "      <td>Sul</td>\n",
       "      <td>278</td>\n",
       "    </tr>\n",
       "    <tr>\n",
       "      <th>1</th>\n",
       "      <td>Nordeste</td>\n",
       "      <td>195</td>\n",
       "    </tr>\n",
       "    <tr>\n",
       "      <th>2</th>\n",
       "      <td>Norte</td>\n",
       "      <td>192</td>\n",
       "    </tr>\n",
       "    <tr>\n",
       "      <th>0</th>\n",
       "      <td>Centro-Oeste</td>\n",
       "      <td>180</td>\n",
       "    </tr>\n",
       "    <tr>\n",
       "      <th>3</th>\n",
       "      <td>Sudeste</td>\n",
       "      <td>177</td>\n",
       "    </tr>\n",
       "  </tbody>\n",
       "</table>\n",
       "</div>"
      ],
      "text/plain": [
       "   Regiao_Venda  Quantidade_Vendida\n",
       "4           Sul                 278\n",
       "1      Nordeste                 195\n",
       "2         Norte                 192\n",
       "0  Centro-Oeste                 180\n",
       "3       Sudeste                 177"
      ]
     },
     "execution_count": 27,
     "metadata": {},
     "output_type": "execute_result"
    }
   ],
   "source": [
    "vendas_por_regiao = vendas_df.groupby('Regiao_Venda')['Quantidade_Vendida'].sum().reset_index().sort_values(by='Quantidade_Vendida', ascending=False)\n",
    "vendas_por_regiao"
   ]
  },
  {
   "cell_type": "code",
   "execution_count": 31,
   "id": "33dfbe96",
   "metadata": {},
   "outputs": [
    {
     "data": {
      "text/html": [
       "<div>\n",
       "<style scoped>\n",
       "    .dataframe tbody tr th:only-of-type {\n",
       "        vertical-align: middle;\n",
       "    }\n",
       "\n",
       "    .dataframe tbody tr th {\n",
       "        vertical-align: top;\n",
       "    }\n",
       "\n",
       "    .dataframe thead th {\n",
       "        text-align: right;\n",
       "    }\n",
       "</style>\n",
       "<table border=\"1\" class=\"dataframe\">\n",
       "  <thead>\n",
       "    <tr style=\"text-align: right;\">\n",
       "      <th></th>\n",
       "      <th>Categoria_Produto</th>\n",
       "      <th>Quantidade_Vendida</th>\n",
       "    </tr>\n",
       "  </thead>\n",
       "  <tbody>\n",
       "    <tr>\n",
       "      <th>0</th>\n",
       "      <td>Beleza</td>\n",
       "      <td>260</td>\n",
       "    </tr>\n",
       "    <tr>\n",
       "      <th>1</th>\n",
       "      <td>Casa e Decoração</td>\n",
       "      <td>160</td>\n",
       "    </tr>\n",
       "    <tr>\n",
       "      <th>2</th>\n",
       "      <td>Eletrônicos</td>\n",
       "      <td>156</td>\n",
       "    </tr>\n",
       "    <tr>\n",
       "      <th>3</th>\n",
       "      <td>Esportes</td>\n",
       "      <td>238</td>\n",
       "    </tr>\n",
       "    <tr>\n",
       "      <th>4</th>\n",
       "      <td>Roupas</td>\n",
       "      <td>208</td>\n",
       "    </tr>\n",
       "  </tbody>\n",
       "</table>\n",
       "</div>"
      ],
      "text/plain": [
       "  Categoria_Produto  Quantidade_Vendida\n",
       "0            Beleza                 260\n",
       "1  Casa e Decoração                 160\n",
       "2       Eletrônicos                 156\n",
       "3          Esportes                 238\n",
       "4            Roupas                 208"
      ]
     },
     "execution_count": 31,
     "metadata": {},
     "output_type": "execute_result"
    }
   ],
   "source": [
    "vendas_por_categoria  = vendas_df.groupby('Categoria_Produto')['Quantidade_Vendida'].sum().reset_index()\n",
    "vendas_por_categoria"
   ]
  },
  {
   "cell_type": "code",
   "execution_count": 37,
   "id": "ba4fbd68",
   "metadata": {},
   "outputs": [
    {
     "data": {
      "text/html": [
       "<div>\n",
       "<style scoped>\n",
       "    .dataframe tbody tr th:only-of-type {\n",
       "        vertical-align: middle;\n",
       "    }\n",
       "\n",
       "    .dataframe tbody tr th {\n",
       "        vertical-align: top;\n",
       "    }\n",
       "\n",
       "    .dataframe thead th {\n",
       "        text-align: right;\n",
       "    }\n",
       "</style>\n",
       "<table border=\"1\" class=\"dataframe\">\n",
       "  <thead>\n",
       "    <tr style=\"text-align: right;\">\n",
       "      <th></th>\n",
       "      <th>Produto</th>\n",
       "      <th>Quantidade_Vendida</th>\n",
       "    </tr>\n",
       "  </thead>\n",
       "  <tbody>\n",
       "    <tr>\n",
       "      <th>14</th>\n",
       "      <td>Shampoo</td>\n",
       "      <td>90</td>\n",
       "    </tr>\n",
       "    <tr>\n",
       "      <th>9</th>\n",
       "      <td>Maquiagem</td>\n",
       "      <td>85</td>\n",
       "    </tr>\n",
       "    <tr>\n",
       "      <th>0</th>\n",
       "      <td>Bicicleta</td>\n",
       "      <td>77</td>\n",
       "    </tr>\n",
       "    <tr>\n",
       "      <th>1</th>\n",
       "      <td>Bola de Futebol</td>\n",
       "      <td>77</td>\n",
       "    </tr>\n",
       "    <tr>\n",
       "      <th>18</th>\n",
       "      <td>Tênis</td>\n",
       "      <td>74</td>\n",
       "    </tr>\n",
       "  </tbody>\n",
       "</table>\n",
       "</div>"
      ],
      "text/plain": [
       "            Produto  Quantidade_Vendida\n",
       "14          Shampoo                  90\n",
       "9         Maquiagem                  85\n",
       "0         Bicicleta                  77\n",
       "1   Bola de Futebol                  77\n",
       "18            Tênis                  74"
      ]
     },
     "execution_count": 37,
     "metadata": {},
     "output_type": "execute_result"
    }
   ],
   "source": [
    "vendas_por_produto = vendas_df.groupby('Produto')['Quantidade_Vendida'].sum().reset_index().sort_values(by='Quantidade_Vendida', ascending=False)\n",
    "vendas_por_produto.head(5)"
   ]
  },
  {
   "cell_type": "markdown",
   "id": "7845768f",
   "metadata": {},
   "source": [
    "## Vizualização de Dados"
   ]
  },
  {
   "cell_type": "code",
   "execution_count": 38,
   "id": "476902c9",
   "metadata": {},
   "outputs": [
    {
     "data": {
      "image/png": "[encoded data removed]",
      "text/plain": [
       "<Figure size 800x600 with 1 Axes>"
      ]
     },
     "metadata": {},
     "output_type": "display_data"
    }
   ],
   "source": [
    "plt.figure(figsize=(8, 6))\n",
    "plt.bar(vendas_por_regiao['Regiao_Venda'], vendas_por_regiao['Quantidade_Vendida'], color='royalblue')\n",
    "plt.title('Vendas por Região')\n",
    "plt.xlabel('Região')\n",
    "plt.ylabel('Quantidade Vendida')\n",
    "plt.xticks(rotation=45)\n",
    "plt.grid(axis='y', linestyle='--', alpha=0.7)\n",
    "plt.tight_layout()\n",
    "plt.show()\n"
   ]
  },
  {
   "cell_type": "code",
   "execution_count": 39,
   "id": "7ecadf00",
   "metadata": {},
   "outputs": [
    {
     "data": {
      "image/png": "[encoded data removed]",
      "text/plain": [
       "<Figure size 800x600 with 1 Axes>"
      ]
     },
     "metadata": {},
     "output_type": "display_data"
    }
   ],
   "source": [
    "plt.figure(figsize=(8, 6))\n",
    "plt.bar(vendas_por_categoria['Categoria_Produto'], vendas_por_categoria['Quantidade_Vendida'], color='orange')\n",
    "plt.title('Vendas por Categoria')\n",
    "plt.xlabel('Categoria')\n",
    "plt.ylabel('Quantidade Vendida')\n",
    "plt.xticks(rotation=45)\n",
    "plt.grid(axis='y', linestyle='--', alpha=0.7)\n",
    "plt.tight_layout()\n",
    "plt.show()\n"
   ]
  },
  {
   "cell_type": "code",
   "execution_count": 40,
   "id": "c787b659",
   "metadata": {},
   "outputs": [
    {
     "data": {
      "image/png": "[encoded data removed]",
      "text/plain": [
       "<Figure size 800x600 with 1 Axes>"
      ]
     },
     "metadata": {},
     "output_type": "display_data"
    }
   ],
   "source": [
    "top5 = vendas_por_produto.head(5)\n",
    "\n",
    "plt.figure(figsize=(8, 6))\n",
    "plt.bar(top5['Produto'], top5['Quantidade_Vendida'], color='green')\n",
    "plt.title('Top 5 Produtos Mais Vendidos')\n",
    "plt.xlabel('Produto')\n",
    "plt.ylabel('Quantidade Vendida')\n",
    "plt.xticks(rotation=45)\n",
    "plt.grid(axis='y', linestyle='--', alpha=0.7)\n",
    "plt.tight_layout()\n",
    "plt.show()\n"
   ]
  }
 ],
 "metadata": {
  "kernelspec": {
   "display_name": "Python 3",
   "language": "python",
   "name": "python3"
  },
  "language_info": {
   "codemirror_mode": {
    "name": "ipython",
    "version": 3
   },
   "file_extension": ".py",
   "mimetype": "text/x-python",
   "name": "python",
   "nbconvert_exporter": "python",
   "pygments_lexer": "ipython3",
   "version": "3.13.4"
  }
 },
 "nbformat": 4,
 "nbformat_minor": 5
}
